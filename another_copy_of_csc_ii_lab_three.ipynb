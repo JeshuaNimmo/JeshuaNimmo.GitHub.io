{
  "nbformat": 4,
  "nbformat_minor": 0,
  "metadata": {
    "colab": {
      "provenance": [],
      "include_colab_link": true
    },
    "kernelspec": {
      "name": "python3",
      "display_name": "Python 3"
    },
    "language_info": {
      "name": "python"
    }
  },
  "cells": [
    {
      "cell_type": "markdown",
      "metadata": {
        "id": "view-in-github",
        "colab_type": "text"
      },
      "source": [
        "<a href=\"https://colab.research.google.com/github/JeshuaNimmo/JeshuaNimmo.GitHub.io/blob/main/another_copy_of_csc_ii_lab_three.ipynb\" target=\"_parent\"><img src=\"https://colab.research.google.com/assets/colab-badge.svg\" alt=\"Open In Colab\"/></a>"
      ]
    },
    {
      "cell_type": "markdown",
      "source": [
        "Welcome back! You want to figure out how to test the chatbot that you built. To demonstrate, we're going to show you an example with the shoe-sizing chatbot you built in Lab 1 and 2. Here it is for reference:"
      ],
      "metadata": {
        "id": "Kbf5V25YO7z0"
      }
    },
    {
      "cell_type": "code",
      "source": [
        "def us_to_eu_shoe_size(shoe_type, us_shoe_size):\n",
        "  us_to_eu = {\n",
        "  \"M\": 33,\n",
        "  \"W\": 31,\n",
        "  \"BK\": 32,\n",
        "  \"LK\": 18,\n",
        "  \"T\": -1\n",
        "  }\n",
        "  return us_shoe_size + us_to_eu[shoe_type]\n",
        "\n",
        "print(\"What's your name?\")\n",
        "name = input()\n",
        "\n",
        "print(\"Hello \" + name + \"! What type of shoe do you wear? Type M for Men's, W for Women's, BK for Big Kids', LK for Little Kids', or T for Toddlers'\")\n",
        "shoe_type = input()\n",
        "\n",
        "print(\"What's your US shoe size?\")\n",
        "us_shoe_size = int(input())\n",
        "eu_shoe_size = us_to_eu_shoe_size(shoe_type, us_shoe_size)\n",
        "\n",
        "print(\"Thanks \" + name + \"! Your European shoe size is: \" + str(eu_shoe_size))"
      ],
      "metadata": {
        "id": "JjE4O4PcPKsx",
        "colab": {
          "base_uri": "https://localhost:8080/"
        },
        "outputId": "93a310df-388b-4892-f22b-22410a00a860"
      },
      "execution_count": null,
      "outputs": [
        {
          "output_type": "stream",
          "name": "stdout",
          "text": [
            "What's your name?\n",
            "Jeshua\n",
            "Hello Jeshua! What type of shoe do you wear? Type M for Men's, W for Women's, BK for Big Kids', LK for Little Kids', or T for Toddlers'\n",
            "M\n",
            "What's your US shoe size?\n",
            "10\n",
            "Thanks Jeshua! Your European shoe size is: 43\n"
          ]
        }
      ]
    },
    {
      "cell_type": "markdown",
      "source": [
        "Testing code is important because we need to verify that it will work for different kinds of inputs. How do we represent an input to the chatbot? We're taking in three inputs from them - their name, shoe gender, and US shoe size. instead of using a list, we can use a tuple. [Tuples](https://www.w3schools.com/python/python_tuples.asp) are a data type in Python that let you store multiple items - they're different from lists because you can't change them after you create them. We'll then create a list of tuples that we can use to simulate different inputs to the chatbot."
      ],
      "metadata": {
        "id": "w-yRp-iqQE56"
      }
    },
    {
      "cell_type": "code",
      "source": [
        "people = [(\"Jeff\", \"M\", 11),\n",
        "          (\"Rebecca\", \"W\", 7),\n",
        "          (\"Frank\", \"BK\", 4),\n",
        "          (\"Emily\", \"LK\", 6),\n",
        "          (\"Joe\", \"T\", 3)]"
      ],
      "metadata": {
        "id": "H3mk-8EMQ-wh"
      },
      "execution_count": null,
      "outputs": []
    },
    {
      "cell_type": "markdown",
      "source": [
        "So how do we test all of these inputs? Do we have to write out code for each one? Nope! [Loops](https://www.w3schools.com/python/python_for_loops.asp) are one of the most powerful tools in programming - they allow you to travel over a sequence of data and run a piece of code each time. For loops are the most common kind of loop; they look like this:\n",
        "\n",
        "\n",
        "```\n",
        "for item in items:\n",
        "  #some code\n",
        "```\n",
        "\n",
        "The *item* can be named whatever you want, and each time the associated code runs it will use the next item in the sequence. *Items* is the sequence that you are traveling over - it can be a list, a tuple, a dictionary, a string, or a set.\n",
        "\n",
        "For example, you can print out each of the items in a list:"
      ],
      "metadata": {
        "id": "o4rOFnA-Xnbr"
      }
    },
    {
      "cell_type": "code",
      "source": [
        "numbers = [1, 2, 3, 4, 5]\n",
        "for number in numbers:\n",
        "  print(number)"
      ],
      "metadata": {
        "id": "SxodY3hAYfp5"
      },
      "execution_count": null,
      "outputs": []
    },
    {
      "cell_type": "markdown",
      "source": [
        "So to verify that the us_to_eu_shoe_size function works as intended, we will loop over the list of test cases. If it prints out the right European shoe sizes, we will know it is correct:\n",
        "\n",
        "Jeff: 44\n",
        "\n",
        "Rebecca: 38\n",
        "\n",
        "Frank: 36\n",
        "\n",
        "Emily: 24\n",
        "\n",
        "Joe: 2"
      ],
      "metadata": {
        "id": "OXRDb3dUUNs7"
      }
    },
    {
      "cell_type": "code",
      "source": [
        "for person in people:\n",
        "  print(person[0] + \": \" + str(us_to_eu_shoe_size(person[1], person[2])))"
      ],
      "metadata": {
        "id": "JysVg7xPVZIC",
        "colab": {
          "base_uri": "https://localhost:8080/"
        },
        "outputId": "53eeebfe-fd5f-493a-eb6c-aa61df8b7f68"
      },
      "execution_count": null,
      "outputs": [
        {
          "output_type": "stream",
          "name": "stdout",
          "text": [
            "Jeff: 44\n",
            "Rebecca: 38\n",
            "Frank: 36\n",
            "Emily: 24\n",
            "Joe: 2\n"
          ]
        }
      ]
    },
    {
      "cell_type": "markdown",
      "source": [
        "Your turn - your task is to write out a list of test cases for the chatbot that you built in the previous lab below. You must fulfill the following requirements:\n",
        "\n",
        "- You must create at least five distinct test cases in the form of tuples\n",
        "- You must loop through your test cases and verify that they all match the expected output\n",
        "- You must also write a one or two sentence explanation of your test cases and how they ensure your chatbot works correctly"
      ],
      "metadata": {
        "id": "BQzvH-G9Wg_t"
      }
    },
    {
      "cell_type": "code",
      "source": [
        "def us_to_eu_shoe_size(shoe_type, us_shoe_size):\n",
        "  us_to_eu = {\n",
        "  \"M\": 33,\n",
        "  \"W\": 31,\n",
        "  \"BK\": 32,\n",
        "  \"LK\": 18,\n",
        "  \"T\": -1\n",
        "  }\n",
        "  return us_shoe_size + us_to_eu[shoe_type]\n",
        "\n",
        "print(\"What's your name?\")\n",
        "name = input()\n",
        "\n",
        "print(\"Hello \" + name + \"! What type of shoe do you wear? Type M for Men's, W for Women's, BK for Big Kids', LK for Little Kids', or T for Toddlers'\")\n",
        "shoe_type = input()\n",
        "\n",
        "print(\"What's your US shoe size?\")\n",
        "us_shoe_size = float(input())\n",
        "eu_shoe_size = us_to_eu_shoe_size(shoe_type, us_shoe_size)\n",
        "\n",
        "print(\"Thanks \" + name + \"! Your European shoe size is: \" + str(eu_shoe_size))\n",
        "\n",
        " # this test case tests 4 things, first it tests the ability to print the name of the user properley.\n",
        " # second it tests the codes ability to understand the function of shoe size types like men and women.\n",
        " # third it tests the codes ability to understand the the US show size whether that be int or a float.\n",
        " # and lastly it tests the codes ability to accuretly convert US shoe size to EU shoe size.\n",
        "people = [(\"Jeshua\", \"M\", 10.5),\n",
        "          (\"Lindsey\", \"W\", 8.5),\n",
        "          (\"Shoshanna\", \"BK\", 5),\n",
        "          (\"Rory\", \"LK\", 7),\n",
        "          (\"Stephen\", \"T\", 4)]\n",
        "\n",
        "for person in people:\n",
        "    print(person[0] + \": \" + str(us_to_eu_shoe_size(person[1], person[2])))"
      ],
      "metadata": {
        "id": "tpjBXRaUWnbs"
      },
      "execution_count": null,
      "outputs": []
    },
    {
      "cell_type": "markdown",
      "source": [
        "YOUR EXPLANATION HERE"
      ],
      "metadata": {
        "id": "KmUIDNHiW95S"
      }
    },
    {
      "cell_type": "code",
      "source": [
        " # this test case tests 4 things, first it tests the ability to print the name of the user properley.\n",
        " # second it tests the codes ability to understand the function of shoe size types like men and women.\n",
        " # third it tests the codes ability to understand the the US show size whether that be int or a float.\n",
        " # and lastly it tests the codes ability to accuretly convert US shoe size to EU shoe size."
      ],
      "metadata": {
        "id": "tPfXfiWiIA-A"
      },
      "execution_count": null,
      "outputs": []
    }
  ]
}