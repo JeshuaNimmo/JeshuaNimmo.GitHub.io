{
  "nbformat": 4,
  "nbformat_minor": 0,
  "metadata": {
    "colab": {
      "provenance": [],
      "include_colab_link": true
    },
    "kernelspec": {
      "name": "python3",
      "display_name": "Python 3"
    },
    "language_info": {
      "name": "python"
    }
  },
  "cells": [
    {
      "cell_type": "markdown",
      "metadata": {
        "id": "view-in-github",
        "colab_type": "text"
      },
      "source": [
        "<a href=\"https://colab.research.google.com/github/JeshuaNimmo/JeshuaNimmo.GitHub.io/blob/main/Lab_Two.ipynb\" target=\"_parent\"><img src=\"https://colab.research.google.com/assets/colab-badge.svg\" alt=\"Open In Colab\"/></a>"
      ]
    },
    {
      "cell_type": "markdown",
      "source": [
        "Welcome back! In this lab, we're going to improve the shoe-sizing chatbot that you built previous lab. Here it is for reference:"
      ],
      "metadata": {
        "id": "dvMA3qXI16RT"
      }
    },
    {
      "cell_type": "code",
      "source": [
        "print(\"What's your name?\")\n",
        "name = input()\n",
        "\n",
        "print(\"Hello \" + name + \"! Do you wear Men's or Women's shoes? Type M for Men's or W for Women's.\")\n",
        "shoe_gender = input()\n",
        "\n",
        "print(\"What's your US shoe size?\")\n",
        "us_shoe_size = int(input())\n",
        "\n",
        "eu_shoe_size = 0\n",
        "if (shoe_gender == 'M'):\n",
        "  eu_shoe_size = us_shoe_size + 33\n",
        "elif (shoe_gender == 'W'):\n",
        "  eu_shoe_size = us_shoe_size + 31\n",
        "\n",
        "print(\"Thanks \" + name + \"! Your European shoe size is: \" + str(eu_shoe_size))"
      ],
      "metadata": {
        "id": "MmdbD36p2FlJ"
      },
      "execution_count": null,
      "outputs": []
    },
    {
      "cell_type": "markdown",
      "source": [
        "Your manager at Crikey likes your chatbot and asks you to add support for Toddlers' shoe sizes."
      ],
      "metadata": {
        "id": "PsSPuYRa2vi6"
      }
    },
    {
      "cell_type": "markdown",
      "source": [
        "# Functions"
      ],
      "metadata": {
        "id": "HPWBTiiW3wEK"
      }
    },
    {
      "cell_type": "markdown",
      "source": [
        "To add support for Toddler's shoes, we add another conditional to our chatbot:"
      ],
      "metadata": {
        "id": "RCNpwr9s5I8l"
      }
    },
    {
      "cell_type": "code",
      "source": [
        "print(\"What's your name?\")\n",
        "name = input()\n",
        "\n",
        "print(\"Hello \" + name + \"! What type of shoe do you wear? Type M for Men's, W for Women's, or T for Toddler's.\")\n",
        "shoe_type = input()\n",
        "\n",
        "print(\"What's your US shoe size?\")\n",
        "us_shoe_size = int(input())\n",
        "\n",
        "eu_shoe_size = 0\n",
        "if (shoe_type == 'M'):\n",
        "  eu_shoe_size = us_shoe_size + 33\n",
        "elif (shoe_type == 'W'):\n",
        "  eu_shoe_size = us_shoe_size + 31\n",
        "elif (shoe_type == 'T'):\n",
        "  eu_shoe_size = us_shoe_size - 1\n",
        "\n",
        "print(\"Thanks \" + name + \"! Your European shoe size is: \" + str(eu_shoe_size))"
      ],
      "metadata": {
        "id": "IBYCZcNp5IQs"
      },
      "execution_count": null,
      "outputs": []
    },
    {
      "cell_type": "markdown",
      "source": [
        "Your manager thinks your code for converting US to European shoe size is useful, and asks you to create a function from it. [Functions](https://www.w3schools.com/python/python_functions.asp) allow you to reuse code that you (or others) have written, and they also make your code cleaner and shorter. You've seen some before, like print() and len(), but we can also write our own. A function has a name, parameters, and code. They're defined in Python like this:\n",
        "```\n",
        "# def <function_name>(<param1>, <param2>, ...):\n",
        "    <code>\n",
        "```\n",
        "A function for converting US to European shoe size would look like:"
      ],
      "metadata": {
        "id": "8oB9M0CrX6_9"
      }
    },
    {
      "cell_type": "code",
      "source": [
        "def us_to_eu_shoe_size(shoe_type, us_shoe_size):\n",
        "  if (shoe_type == 'M'):\n",
        "    return us_shoe_size + 33\n",
        "  elif (shoe_type == 'W'):\n",
        "    return us_shoe_size + 31\n",
        "  elif (shoe_type == 'T'):\n",
        "    return us_shoe_size - 1"
      ],
      "metadata": {
        "id": "8Fi_83m66yee"
      },
      "execution_count": null,
      "outputs": []
    },
    {
      "cell_type": "markdown",
      "source": [
        "Now, we update our code to include our function:"
      ],
      "metadata": {
        "id": "qPlhidAy9FdN"
      }
    },
    {
      "cell_type": "code",
      "source": [
        "print(\"What's your name?\")\n",
        "name = input()\n",
        "\n",
        "print(\"Hello \" + name + \"! What type of shoe do you wear? Type M for Men's, W for Women's, or T for Toddler's.\")\n",
        "shoe_type = input()\n",
        "\n",
        "print(\"What's your US shoe size?\")\n",
        "us_shoe_size = int(input())\n",
        "eu_shoe_size = us_to_eu_shoe_size(shoe_type, us_shoe_size)\n",
        "\n",
        "print(\"Thanks \" + name + \"! Your European shoe size is: \" + str(eu_shoe_size))"
      ],
      "metadata": {
        "id": "3q9mv-e29Hwq"
      },
      "execution_count": null,
      "outputs": []
    },
    {
      "cell_type": "markdown",
      "source": [
        "Looks a lot cleaner."
      ],
      "metadata": {
        "id": "Ed0g8rNw-SCH"
      }
    },
    {
      "cell_type": "markdown",
      "source": [
        "# Data Types"
      ],
      "metadata": {
        "id": "ae-PoJK9_xZG"
      }
    },
    {
      "cell_type": "markdown",
      "source": [
        "Your manager is impressed and asks you to add support for Big Kids', Little Kids', and Infants' shoes. You update your shoe size converting function:"
      ],
      "metadata": {
        "id": "7tQ91jo4_2EN"
      }
    },
    {
      "cell_type": "code",
      "source": [
        "def us_to_eu_shoe_size(shoe_type, us_shoe_size):\n",
        "  if (shoe_type == 'M'):\n",
        "    return us_shoe_size + 33\n",
        "  elif (shoe_type == 'W'):\n",
        "    return us_shoe_size + 31\n",
        "  elif (shoe_type == 'BK'):\n",
        "    return us_shoe_size + 32\n",
        "  elif (shoe_type == 'LK'):\n",
        "    return us_shoe_size + 18\n",
        "  elif (shoe_type == 'T'):\n",
        "    return us_shoe_size - 1"
      ],
      "metadata": {
        "id": "f3liwSxr-5Dp"
      },
      "execution_count": null,
      "outputs": []
    },
    {
      "cell_type": "markdown",
      "source": [
        "Now this function is starting to get a bit complicated. Your manager recommends you use a [dictionary](https://www.w3schools.com/python/python_dictionaries.asp) to convert shoe sizes instead. A dictionary is a [data type](https://www.w3schools.com/python/python_datatypes.asp) that allows you to store key-value pairs. It's defined like this:\n",
        "```\n",
        "dict = {\n",
        "  key1: val1,\n",
        "  key2: val2,\n",
        "  key3: val3,\n",
        "  ...\n",
        "}\n",
        "```"
      ],
      "metadata": {
        "id": "QWhEZ8tW_UpC"
      }
    },
    {
      "cell_type": "markdown",
      "source": [
        "You can retrieve the value corresponding to a key like this:\n",
        "```\n",
        "value = dict[key1]\n",
        "```"
      ],
      "metadata": {
        "id": "h0DjAMvLAW5e"
      }
    },
    {
      "cell_type": "markdown",
      "source": [
        "A dictionary for converting US to European shoe size would look like this:"
      ],
      "metadata": {
        "id": "v-NHoEEdBCvF"
      }
    },
    {
      "cell_type": "code",
      "source": [
        "us_to_eu = {\n",
        "  \"M\": 33,\n",
        "  \"W\": 31,\n",
        "  \"BK\": 32,\n",
        "  \"LK\": 18,\n",
        "  \"T\": -1\n",
        "}"
      ],
      "metadata": {
        "id": "H1syhzrqBFfQ"
      },
      "execution_count": null,
      "outputs": []
    },
    {
      "cell_type": "markdown",
      "source": [
        "Now, your function looks like this:"
      ],
      "metadata": {
        "id": "pTPtJfFdBXhu"
      }
    },
    {
      "cell_type": "code",
      "source": [
        "def us_to_eu_shoe_size(shoe_type, us_shoe_size):\n",
        "  us_to_eu = {\n",
        "  \"M\": 33,\n",
        "  \"W\": 31,\n",
        "  \"BK\": 32,\n",
        "  \"LK\": 18,\n",
        "  \"T\": -1\n",
        "  }\n",
        "  return us_shoe_size + us_to_eu[shoe_type]"
      ],
      "metadata": {
        "id": "M0Co7XtjBZ6s"
      },
      "execution_count": null,
      "outputs": []
    },
    {
      "cell_type": "markdown",
      "source": [
        "And your script is updated to look like this:"
      ],
      "metadata": {
        "id": "6ugvzlJwDg3P"
      }
    },
    {
      "cell_type": "code",
      "source": [
        "print(\"What's your name?\")\n",
        "name = input()\n",
        "\n",
        "print(\"Hello \" + name + \"! What type of shoe do you wear? Type M for Men's, W for Women's, BK for Big Kids', LK for Little Kids', or T for Toddlers'\")\n",
        "shoe_type = input()\n",
        "\n",
        "print(\"What's your US shoe size?\")\n",
        "us_shoe_size = int(input())\n",
        "eu_shoe_size = us_to_eu_shoe_size(shoe_type, us_shoe_size)\n",
        "\n",
        "print(\"Thanks \" + name + \"! Your European shoe size is: \" + str(eu_shoe_size))"
      ],
      "metadata": {
        "id": "RzpjFTPaDnad"
      },
      "execution_count": null,
      "outputs": []
    },
    {
      "cell_type": "markdown",
      "source": [
        "This list of shoe types is also getting kind of long. Luckily, Python has another data type called a [list](https://www.w3schools.com/python/python_lists.asp) that will make this easier. Lists are, well, lists of items. You declare them like this:\n",
        "```\n",
        "list = [item1, item2, item3, item4]\n",
        "\n",
        "```\n",
        "\n"
      ],
      "metadata": {
        "id": "FMDz9AD3EBZm"
      }
    },
    {
      "cell_type": "markdown",
      "source": [
        "You can get an item from a list by its index - the elements in a list are ordered from 0 and up.\n",
        "```\n",
        "item1 = list[0]\n",
        "```\n"
      ],
      "metadata": {
        "id": "ghetaWgTEvBv"
      }
    },
    {
      "cell_type": "markdown",
      "source": [
        "Here's a list of our shoe types:"
      ],
      "metadata": {
        "id": "OZHtaEBYFOHQ"
      }
    },
    {
      "cell_type": "code",
      "source": [
        "shoe_types = [\"M\", \"W\", \"BK\", \"LK\", \"T\"]"
      ],
      "metadata": {
        "id": "mKWgxhESERDH"
      },
      "execution_count": null,
      "outputs": []
    },
    {
      "cell_type": "markdown",
      "source": [
        "And our script updated to use the list:"
      ],
      "metadata": {
        "id": "lCsY8GTtFjRJ"
      }
    },
    {
      "cell_type": "code",
      "source": [
        "print(\"What's your name?\")\n",
        "name = input()\n",
        "\n",
        "print(\"Hello \" + name + \"! What type of shoe do you wear? Type one of the following options:\")\n",
        "print(shoe_types)\n",
        "shoe_type = input()\n",
        "\n",
        "print(\"What's your US shoe size?\")\n",
        "us_shoe_size = int(input())\n",
        "eu_shoe_size = us_to_eu_shoe_size(shoe_type, us_shoe_size)\n",
        "\n",
        "print(\"Thanks \" + name + \"! Your European shoe size is: \" + str(eu_shoe_size))"
      ],
      "metadata": {
        "id": "szDjy3wqFlDC"
      },
      "execution_count": null,
      "outputs": []
    },
    {
      "cell_type": "markdown",
      "source": [
        "# Building your own chatbot"
      ],
      "metadata": {
        "id": "nt8la-7tPKgp"
      }
    },
    {
      "cell_type": "markdown",
      "source": [
        "Alright - your turn! You got bored at Crikey and have decided to start your own online store. Choose a product to sell and create a chatbot to assist customers in making a purchase. Your chatbot must fulfill the following requirements:\n",
        "\n",
        "- You must ask the user for their input and store it in a variable at least once\n",
        "- You must use at least one conditional to make the chatbot behave differently based on the user's input\n",
        "- You must use a list or dictionary, or both\n",
        "\n",
        "You also must write out a sentence or two explaining what your chatbot does. You are also free to make a chatbot that does something other than sell a product, as long as it fulfills the requirements above. Please keep it classroom friendly.\n",
        "\n",
        "You are free to reuse code from the previous labs.\n"
      ],
      "metadata": {
        "id": "MDKFTlRSGDsb"
      }
    },
    {
      "cell_type": "code",
      "source": [
        "# this code is allows the user to choose what type of fruit you want to by\n",
        "# and then allows the user to input the amount of said fruit and calculates its price\n",
        "\n",
        "products = [\n",
        "{\"name\": \"Apple\", \"price\": 0.5},\n",
        "{\"name\": \"Banana\", \"price\": 0.25},\n",
        "{\"name\": \"Orange\", \"price\": 0.35},\n",
        "{\"name\": \"Grapes\", \"price\": 1.5},\n",
        "{\"name\": \"Watermelon\", \"price\": 3.0}\n",
        "]\n",
        "\n",
        "print(\"Welcome to our online fruit market!\")\n",
        "\n",
        "print(\"Available products:\")\n",
        "for i, product in enumerate(products):\n",
        "  print(f\"{i+1}. {product['name']} - ${product['price']}\")\n",
        "\n",
        "choice = input(\"Enter the number of the fruit you want to buy (or 'q' to quit): \")\n",
        "\n",
        "if choice == 'q':\n",
        "  print(\"Thank you for visiting our store!\")\n",
        "else:\n",
        "  choice = int(choice)\n",
        "\n",
        "if choice < 1 or choice > len(products):\n",
        "  print(\"Invalid choice!\")\n",
        "else:\n",
        "  selected_product = products[choice-1]\n",
        "print(f\"You have selected {selected_product['name']}.\")\n",
        "\n",
        "quantity = int(input(\"Enter the quantity you want to buy: \"))\n",
        "\n",
        "total_price = selected_product['price'] * quantity\n",
        "print(f\"The total price is ${total_price}.\")\n",
        "\n",
        "purchase = {\n",
        "\"product_name\": selected_product['name'],\n",
        "\"quantity\": quantity,\n",
        "\"total_price\": total_price\n",
        "}\n",
        "\n",
        "print(\"Thank you for your purchase!\")\n",
        "print(purchase)\n",
        "\n",
        "\n"
      ],
      "metadata": {
        "id": "agRylYnaPcCc",
        "colab": {
          "base_uri": "https://localhost:8080/"
        },
        "outputId": "cef9947a-cc9e-4083-db11-a3de4a39c2f7"
      },
      "execution_count": null,
      "outputs": [
        {
          "output_type": "stream",
          "name": "stdout",
          "text": [
            "Welcome to our online fruit market!\n",
            "Available products:\n",
            "1. Apple - $0.5\n",
            "2. Banana - $0.25\n",
            "3. Orange - $0.35\n",
            "4. Grapes - $1.5\n",
            "5. Watermelon - $3.0\n",
            "Enter the number of the fruit you want to buy (or 'q' to quit): 5\n",
            "You have selected Watermelon.\n",
            "Enter the quantity you want to buy: 100\n",
            "The total price is $300.0.\n",
            "Thank you for your purchase!\n",
            "{'product_name': 'Watermelon', 'quantity': 100, 'total_price': 300.0}\n"
          ]
        }
      ]
    }
  ]
}